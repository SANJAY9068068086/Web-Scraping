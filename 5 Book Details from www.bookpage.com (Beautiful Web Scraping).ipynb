{
 "cells": [
  {
   "cell_type": "markdown",
   "metadata": {},
   "source": [
    "# 5 Book Details from www.bookpage.com (Beautiful Web Scraping)"
   ]
  },
  {
   "cell_type": "code",
   "execution_count": 1,
   "metadata": {},
   "outputs": [],
   "source": [
    "from bs4 import BeautifulSoup\n",
    "import pandas as pd\n",
    "import requests"
   ]
  },
  {
   "cell_type": "code",
   "execution_count": 2,
   "metadata": {},
   "outputs": [],
   "source": [
    "page=requests.get(\"https://bookpage.com/reviews\")\n",
    "soup = BeautifulSoup(page.content)"
   ]
  },
  {
   "cell_type": "code",
   "execution_count": 3,
   "metadata": {},
   "outputs": [],
   "source": [
    "urls = []\n",
    "\n",
    "url_tags = soup.find_all(\"h4\",class_=\"italic\")\n",
    "for i in url_tags:\n",
    "    for j in i.find_all(\"a\"):\n",
    "        urls.append(j[\"href\"])"
   ]
  },
  {
   "cell_type": "code",
   "execution_count": 4,
   "metadata": {
    "scrolled": true
   },
   "outputs": [],
   "source": [
    "book_name = []\n",
    "for i in urls:\n",
    "    book = requests.get('https://bookpage.com/'+i)\n",
    "    soup = BeautifulSoup(book.content)\n",
    "    book_name.append(soup.find(\"h1\").text.replace(\"\\n\",\"\").replace(\"★\",\"\"))\n",
    "name = book_name[:5]"
   ]
  },
  {
   "cell_type": "code",
   "execution_count": 5,
   "metadata": {},
   "outputs": [],
   "source": [
    "reviews = []\n",
    "for i in urls:\n",
    "    book = requests.get('https://bookpage.com/'+i)\n",
    "    soup = BeautifulSoup(book.content)\n",
    "    reviews.append(soup.find(\"div\",class_=\"article-body\").text.replace(\"\\n\",\"\"))\n",
    "rew = reviews[:5]"
   ]
  },
  {
   "cell_type": "code",
   "execution_count": 6,
   "metadata": {},
   "outputs": [],
   "source": [
    "auther_name = []\n",
    "for i in urls:\n",
    "    book = requests.get('https://bookpage.com/'+i)\n",
    "    soup = BeautifulSoup(book.content)\n",
    "    auther_name.append(soup.find(\"p\",class_=\"sans bold\").text.replace(\"\\n\",\"\").replace(\"By\",\"\"))\n",
    "auth = auther_name[:5]"
   ]
  },
  {
   "cell_type": "code",
   "execution_count": 7,
   "metadata": {},
   "outputs": [],
   "source": [
    "genre = []\n",
    "for i in urls:\n",
    "    book = requests.get('https://bookpage.com/'+i)\n",
    "    soup = BeautifulSoup(book.content)\n",
    "    genre.append(soup.find(\"p\",class_=\"genre-links hidden-phone\"))\n",
    "gen = genre[:5]"
   ]
  },
  {
   "cell_type": "markdown",
   "metadata": {},
   "source": [
    "## 5 Book Details"
   ]
  },
  {
   "cell_type": "code",
   "execution_count": 8,
   "metadata": {},
   "outputs": [
    {
     "data": {
      "text/html": [
       "<div>\n",
       "<style scoped>\n",
       "    .dataframe tbody tr th:only-of-type {\n",
       "        vertical-align: middle;\n",
       "    }\n",
       "\n",
       "    .dataframe tbody tr th {\n",
       "        vertical-align: top;\n",
       "    }\n",
       "\n",
       "    .dataframe thead th {\n",
       "        text-align: right;\n",
       "    }\n",
       "</style>\n",
       "<table border=\"1\" class=\"dataframe\">\n",
       "  <thead>\n",
       "    <tr style=\"text-align: right;\">\n",
       "      <th></th>\n",
       "      <th>Book Name</th>\n",
       "      <th>Author Name</th>\n",
       "      <th>Genre</th>\n",
       "      <th>Reviews</th>\n",
       "    </tr>\n",
       "  </thead>\n",
       "  <tbody>\n",
       "    <tr>\n",
       "      <th>1</th>\n",
       "      <td>Summer Fun</td>\n",
       "      <td>Jeanne Thornton</td>\n",
       "      <td>None</td>\n",
       "      <td>It’s been nine years since the publication of ...</td>\n",
       "    </tr>\n",
       "    <tr>\n",
       "      <th>2</th>\n",
       "      <td>Sugar Town Queens</td>\n",
       "      <td>Malla Nunn</td>\n",
       "      <td>None</td>\n",
       "      <td>Explosive, long-buried family secrets lie at t...</td>\n",
       "    </tr>\n",
       "    <tr>\n",
       "      <th>3</th>\n",
       "      <td>We Are Each Other’s Harvest</td>\n",
       "      <td>Natalie Baszile, Tina Lifford</td>\n",
       "      <td>None</td>\n",
       "      <td>The audiobook of Natalie Baszile’s We Are Each...</td>\n",
       "    </tr>\n",
       "    <tr>\n",
       "      <th>4</th>\n",
       "      <td>Dead Wednesday</td>\n",
       "      <td>Jerry Spinelli</td>\n",
       "      <td>None</td>\n",
       "      <td>Newbery Medalist Jerry Spinelli has created an...</td>\n",
       "    </tr>\n",
       "    <tr>\n",
       "      <th>5</th>\n",
       "      <td>The Wreckage of My Presence</td>\n",
       "      <td>Casey Wilson</td>\n",
       "      <td>None</td>\n",
       "      <td>You may know Casey Wilson from her brief stint...</td>\n",
       "    </tr>\n",
       "  </tbody>\n",
       "</table>\n",
       "</div>"
      ],
      "text/plain": [
       "                     Book Name                    Author Name Genre  \\\n",
       "1                   Summer Fun                Jeanne Thornton  None   \n",
       "2            Sugar Town Queens                     Malla Nunn  None   \n",
       "3  We Are Each Other’s Harvest  Natalie Baszile, Tina Lifford  None   \n",
       "4               Dead Wednesday                 Jerry Spinelli  None   \n",
       "5  The Wreckage of My Presence                   Casey Wilson  None   \n",
       "\n",
       "                                             Reviews  \n",
       "1  It’s been nine years since the publication of ...  \n",
       "2  Explosive, long-buried family secrets lie at t...  \n",
       "3  The audiobook of Natalie Baszile’s We Are Each...  \n",
       "4  Newbery Medalist Jerry Spinelli has created an...  \n",
       "5  You may know Casey Wilson from her brief stint...  "
      ]
     },
     "execution_count": 8,
     "metadata": {},
     "output_type": "execute_result"
    }
   ],
   "source": [
    "Book_Details = pd.DataFrame(index = list(range(1,6)))\n",
    "Book_Details[\"Book Name\"] =name\n",
    "Book_Details[\"Author Name\"] = auth\n",
    "Book_Details[\"Genre\"] = gen\n",
    "Book_Details[\"Reviews\"] = rew\n",
    "\n",
    "Book_Details"
   ]
  },
  {
   "cell_type": "code",
   "execution_count": null,
   "metadata": {},
   "outputs": [],
   "source": []
  }
 ],
 "metadata": {
  "kernelspec": {
   "display_name": "Python 3",
   "language": "python",
   "name": "python3"
  },
  "language_info": {
   "codemirror_mode": {
    "name": "ipython",
    "version": 3
   },
   "file_extension": ".py",
   "mimetype": "text/x-python",
   "name": "python",
   "nbconvert_exporter": "python",
   "pygments_lexer": "ipython3",
   "version": "3.8.5"
  }
 },
 "nbformat": 4,
 "nbformat_minor": 4
}
