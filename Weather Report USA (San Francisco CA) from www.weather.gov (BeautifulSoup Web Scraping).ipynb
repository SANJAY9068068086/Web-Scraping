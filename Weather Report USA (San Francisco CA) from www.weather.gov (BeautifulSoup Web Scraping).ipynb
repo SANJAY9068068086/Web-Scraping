{
 "cells": [
  {
   "cell_type": "markdown",
   "metadata": {},
   "source": [
    "### Weather Report USA (San Francisco CA) from www.weather.gov (BeautifulSoup Web Scraping)"
   ]
  },
  {
   "cell_type": "code",
   "execution_count": 1,
   "metadata": {},
   "outputs": [],
   "source": [
    "from bs4 import BeautifulSoup \n",
    "import pandas as pd\n",
    "import requests"
   ]
  },
  {
   "cell_type": "code",
   "execution_count": 2,
   "metadata": {},
   "outputs": [],
   "source": [
    "page = requests.get(\"https://forecast.weather.gov/MapClick.php?lat=37.77493000000004&lon=-122.41941999999995#.YP3j6o4zbIU\")\n",
    "soup = BeautifulSoup(page.content)"
   ]
  },
  {
   "cell_type": "code",
   "execution_count": 3,
   "metadata": {},
   "outputs": [],
   "source": [
    "period = []\n",
    "short_description = []\n",
    "temperature = []\n",
    "description = []"
   ]
  },
  {
   "cell_type": "code",
   "execution_count": 4,
   "metadata": {
    "scrolled": true
   },
   "outputs": [],
   "source": [
    "info = []\n",
    "data = soup.find_all(\"div\",class_=\"tombstone-container\")\n",
    "for i in data:\n",
    "    for j in i.find_all(\"p\"):\n",
    "        info.append(j.text)"
   ]
  },
  {
   "cell_type": "code",
   "execution_count": 5,
   "metadata": {},
   "outputs": [],
   "source": [
    "for i in range(0,len(info),4):\n",
    "    period.append(info[i])\n",
    "per = period[:7]"
   ]
  },
  {
   "cell_type": "code",
   "execution_count": 6,
   "metadata": {},
   "outputs": [],
   "source": [
    "for i in range(2,len(info),4):\n",
    "    short_description.append(info[i])\n",
    "sho = short_description[:7]"
   ]
  },
  {
   "cell_type": "code",
   "execution_count": 7,
   "metadata": {},
   "outputs": [],
   "source": [
    "for i in range(3,len(info),4):\n",
    "    temperature.append(info[i])\n",
    "tem = temperature[:7]"
   ]
  },
  {
   "cell_type": "code",
   "execution_count": 8,
   "metadata": {},
   "outputs": [],
   "source": [
    "desc = soup.find_all('div',class_=\"col-sm-10 forecast-text\")\n",
    "for i in desc:\n",
    "    description.append(i.text)\n",
    "des = description[:7]"
   ]
  },
  {
   "cell_type": "markdown",
   "metadata": {},
   "source": [
    "### Weather Report USA (San Francisco CA) Last 7 Days"
   ]
  },
  {
   "cell_type": "code",
   "execution_count": 9,
   "metadata": {},
   "outputs": [
    {
     "data": {
      "text/html": [
       "<div>\n",
       "<style scoped>\n",
       "    .dataframe tbody tr th:only-of-type {\n",
       "        vertical-align: middle;\n",
       "    }\n",
       "\n",
       "    .dataframe tbody tr th {\n",
       "        vertical-align: top;\n",
       "    }\n",
       "\n",
       "    .dataframe thead th {\n",
       "        text-align: right;\n",
       "    }\n",
       "</style>\n",
       "<table border=\"1\" class=\"dataframe\">\n",
       "  <thead>\n",
       "    <tr style=\"text-align: right;\">\n",
       "      <th></th>\n",
       "      <th>Period</th>\n",
       "      <th>Short Description</th>\n",
       "      <th>Temperature</th>\n",
       "      <th>Description</th>\n",
       "    </tr>\n",
       "  </thead>\n",
       "  <tbody>\n",
       "    <tr>\n",
       "      <th>1</th>\n",
       "      <td>Tonight</td>\n",
       "      <td>Mostly Cloudy</td>\n",
       "      <td>Low: 56 °F</td>\n",
       "      <td>Mostly cloudy, with a low around 56. West sout...</td>\n",
       "    </tr>\n",
       "    <tr>\n",
       "      <th>2</th>\n",
       "      <td>Monday</td>\n",
       "      <td>DecreasingClouds</td>\n",
       "      <td>High: 66 °F</td>\n",
       "      <td>Mostly cloudy, then gradually becoming sunny, ...</td>\n",
       "    </tr>\n",
       "    <tr>\n",
       "      <th>3</th>\n",
       "      <td>MondayNight</td>\n",
       "      <td>Slight ChanceT-storms</td>\n",
       "      <td>Low: 57 °F</td>\n",
       "      <td>A 20 percent chance of showers and thunderstor...</td>\n",
       "    </tr>\n",
       "    <tr>\n",
       "      <th>4</th>\n",
       "      <td>Tuesday</td>\n",
       "      <td>Slight ChanceT-storms</td>\n",
       "      <td>High: 73 °F</td>\n",
       "      <td>A 20 percent chance of showers and thunderstor...</td>\n",
       "    </tr>\n",
       "    <tr>\n",
       "      <th>5</th>\n",
       "      <td>TuesdayNight</td>\n",
       "      <td>Partly Cloudy</td>\n",
       "      <td>Low: 57 °F</td>\n",
       "      <td>Partly cloudy, with a low around 57. West wind...</td>\n",
       "    </tr>\n",
       "    <tr>\n",
       "      <th>6</th>\n",
       "      <td>Wednesday</td>\n",
       "      <td>Sunny</td>\n",
       "      <td>High: 73 °F</td>\n",
       "      <td>Sunny, with a high near 73.</td>\n",
       "    </tr>\n",
       "    <tr>\n",
       "      <th>7</th>\n",
       "      <td>WednesdayNight</td>\n",
       "      <td>Partly Cloudy</td>\n",
       "      <td>Low: 58 °F</td>\n",
       "      <td>Partly cloudy, with a low around 58.</td>\n",
       "    </tr>\n",
       "  </tbody>\n",
       "</table>\n",
       "</div>"
      ],
      "text/plain": [
       "           Period      Short Description  Temperature  \\\n",
       "1         Tonight          Mostly Cloudy   Low: 56 °F   \n",
       "2          Monday       DecreasingClouds  High: 66 °F   \n",
       "3     MondayNight  Slight ChanceT-storms   Low: 57 °F   \n",
       "4         Tuesday  Slight ChanceT-storms  High: 73 °F   \n",
       "5    TuesdayNight          Partly Cloudy   Low: 57 °F   \n",
       "6       Wednesday                  Sunny  High: 73 °F   \n",
       "7  WednesdayNight          Partly Cloudy   Low: 58 °F   \n",
       "\n",
       "                                         Description  \n",
       "1  Mostly cloudy, with a low around 56. West sout...  \n",
       "2  Mostly cloudy, then gradually becoming sunny, ...  \n",
       "3  A 20 percent chance of showers and thunderstor...  \n",
       "4  A 20 percent chance of showers and thunderstor...  \n",
       "5  Partly cloudy, with a low around 57. West wind...  \n",
       "6                        Sunny, with a high near 73.  \n",
       "7               Partly cloudy, with a low around 58.  "
      ]
     },
     "execution_count": 9,
     "metadata": {},
     "output_type": "execute_result"
    }
   ],
   "source": [
    "Weather_Report = pd.DataFrame(index = list(range(1,8)))\n",
    "Weather_Report[\"Period\"] = per\n",
    "Weather_Report[\"Short Description\"] = sho\n",
    "Weather_Report[\"Temperature\"] = tem\n",
    "Weather_Report[\"Description\"] = des\n",
    "\n",
    "Weather_Report"
   ]
  }
 ],
 "metadata": {
  "kernelspec": {
   "display_name": "Python 3",
   "language": "python",
   "name": "python3"
  },
  "language_info": {
   "codemirror_mode": {
    "name": "ipython",
    "version": 3
   },
   "file_extension": ".py",
   "mimetype": "text/x-python",
   "name": "python",
   "nbconvert_exporter": "python",
   "pygments_lexer": "ipython3",
   "version": "3.8.5"
  }
 },
 "nbformat": 4,
 "nbformat_minor": 4
}
