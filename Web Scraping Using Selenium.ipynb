{
 "cells": [
  {
   "cell_type": "markdown",
   "metadata": {},
   "source": [
    "# Web Scraping Using Selenium"
   ]
  },
  {
   "cell_type": "markdown",
   "metadata": {},
   "source": [
    "### Before proceeding to the \"web scraping using selenium\", we have to download the 'web driver' by this link https://chromedriver.chromium.org/downloads according to your web version and save it anywhere in your system or you can upload it to your Jypyter Notebook also."
   ]
  },
  {
   "cell_type": "code",
   "execution_count": 1,
   "metadata": {},
   "outputs": [
    {
     "name": "stdout",
     "output_type": "stream",
     "text": [
      "Requirement already satisfied: selenium in c:\\users\\admin\\anaconda3\\lib\\site-packages (3.141.0)\n",
      "Requirement already satisfied: urllib3 in c:\\users\\admin\\anaconda3\\lib\\site-packages (from selenium) (1.25.11)\n"
     ]
    }
   ],
   "source": [
    "# First of all you need to install the 'selenium' using  >> !pip install selenium <<\n",
    "\n",
    "!pip install selenium"
   ]
  },
  {
   "cell_type": "code",
   "execution_count": 2,
   "metadata": {},
   "outputs": [],
   "source": [
    "# Let's now import all the required Libraries\n",
    "\n",
    "import pandas as pd\n",
    "import selenium\n",
    "from selenium import webdriver"
   ]
  },
  {
   "cell_type": "code",
   "execution_count": 3,
   "metadata": {},
   "outputs": [],
   "source": [
    "# Let's first connect to the driver. just copy the path of driver that you already have download in your system or from notebook\n",
    "\n",
    "driver = webdriver.Chrome(\"chromedriver.exe\")"
   ]
  },
  {
   "cell_type": "code",
   "execution_count": 4,
   "metadata": {},
   "outputs": [
    {
     "name": "stdout",
     "output_type": "stream",
     "text": [
      "<selenium.webdriver.chrome.webdriver.WebDriver (session=\"4dc689dfda6209297cc6dacdd3d3e0ad\")>\n"
     ]
    }
   ],
   "source": [
    "print(driver)"
   ]
  },
  {
   "cell_type": "code",
   "execution_count": 5,
   "metadata": {},
   "outputs": [],
   "source": [
    "# Let's open the naukri site using driver (For Example)\n",
    "\n",
    "url = 'https://www.naukri.com'\n",
    "driver.get(url)"
   ]
  },
  {
   "cell_type": "code",
   "execution_count": 6,
   "metadata": {},
   "outputs": [
    {
     "data": {
      "text/plain": [
       "'\\nsearch_job = driver.find_element_by_id(\\'qsb-keyword-sugg\\')\\nsearch_job.send_keys(\"Data Scientist\")\\n\\n'"
      ]
     },
     "execution_count": 6,
     "metadata": {},
     "output_type": "execute_result"
    }
   ],
   "source": [
    "# finding elementy by find_element_by_id\n",
    "\n",
    "'''\n",
    "search_job = driver.find_element_by_id('qsb-keyword-sugg')\n",
    "search_job.send_keys(\"Data Scientist\")\n",
    "\n",
    "'''\n",
    "# But We should always use x_path , x_path code is given below --"
   ]
  },
  {
   "cell_type": "code",
   "execution_count": 7,
   "metadata": {},
   "outputs": [],
   "source": [
    "# Write on search bar using x_path\n",
    "\n",
    "search_job = driver.find_element_by_xpath('//input[@class=\"sugInp\"]')\n",
    "search_job.send_keys(\"Data Scientist\")"
   ]
  },
  {
   "cell_type": "code",
   "execution_count": 8,
   "metadata": {},
   "outputs": [
    {
     "data": {
      "text/plain": [
       "'\\nsearch_loc = driver.find_element_by_id(\"qsb-location-sugg\")\\nsearch_loc.send_keys(\"Delhi\")\\n\\n'"
      ]
     },
     "execution_count": 8,
     "metadata": {},
     "output_type": "execute_result"
    }
   ],
   "source": [
    "# search location using id\n",
    "\n",
    "'''\n",
    "search_loc = driver.find_element_by_id(\"qsb-location-sugg\")\n",
    "search_loc.send_keys(\"Delhi\")\n",
    "\n",
    "'''\n",
    "\n",
    "# But we should always use x_path , x_path code is given below --"
   ]
  },
  {
   "cell_type": "code",
   "execution_count": 9,
   "metadata": {},
   "outputs": [],
   "source": [
    "# search location using xpath\n",
    "\n",
    "search_loc = driver.find_element_by_xpath('//input[@id=\"qsb-location-sugg\"]')\n",
    "search_loc.send_keys(\"Delhi\")"
   ]
  },
  {
   "cell_type": "code",
   "execution_count": 10,
   "metadata": {},
   "outputs": [
    {
     "data": {
      "text/plain": [
       "'\\nsearch_btn = driver.find_element_by_class_name(\"btn\")\\nsearch_btn.click()\\n\\n'"
      ]
     },
     "execution_count": 10,
     "metadata": {},
     "output_type": "execute_result"
    }
   ],
   "source": [
    "# click using class_name function\n",
    "\n",
    "'''\n",
    "search_btn = driver.find_element_by_class_name(\"btn\")\n",
    "search_btn.click()\n",
    "\n",
    "'''\n",
    "\n",
    "# But we should always use x_path , x_path code is given below --"
   ]
  },
  {
   "cell_type": "code",
   "execution_count": 11,
   "metadata": {},
   "outputs": [],
   "source": [
    "# do click using x_path function\n",
    "\n",
    "search_btn = driver.find_element_by_xpath('//button[@class=\"btn\"]')\n",
    "search_btn.click()"
   ]
  },
  {
   "cell_type": "markdown",
   "metadata": {},
   "source": [
    "### Let's find the all elements, to finding the all elements, we have to use \"elements, not element\""
   ]
  },
  {
   "cell_type": "code",
   "execution_count": 12,
   "metadata": {},
   "outputs": [
    {
     "data": {
      "text/plain": [
       "[<selenium.webdriver.remote.webelement.WebElement (session=\"4dc689dfda6209297cc6dacdd3d3e0ad\", element=\"49ff67e1-40a0-45fd-ade0-4f4753a4b3ee\")>,\n",
       " <selenium.webdriver.remote.webelement.WebElement (session=\"4dc689dfda6209297cc6dacdd3d3e0ad\", element=\"dba958d9-c98f-4c3e-b509-39fd4245c5b9\")>,\n",
       " <selenium.webdriver.remote.webelement.WebElement (session=\"4dc689dfda6209297cc6dacdd3d3e0ad\", element=\"bf011843-acce-48cc-ac48-e896b9f55927\")>,\n",
       " <selenium.webdriver.remote.webelement.WebElement (session=\"4dc689dfda6209297cc6dacdd3d3e0ad\", element=\"7dfeb7ed-f373-431a-acfd-d52a4c5d9f7a\")>,\n",
       " <selenium.webdriver.remote.webelement.WebElement (session=\"4dc689dfda6209297cc6dacdd3d3e0ad\", element=\"f48d36bc-64de-4e59-8aec-3ea9958fe64e\")>,\n",
       " <selenium.webdriver.remote.webelement.WebElement (session=\"4dc689dfda6209297cc6dacdd3d3e0ad\", element=\"14356559-d0ba-4c09-a736-288368559204\")>,\n",
       " <selenium.webdriver.remote.webelement.WebElement (session=\"4dc689dfda6209297cc6dacdd3d3e0ad\", element=\"dc390f58-3a90-4913-a5e7-b04a415932ef\")>,\n",
       " <selenium.webdriver.remote.webelement.WebElement (session=\"4dc689dfda6209297cc6dacdd3d3e0ad\", element=\"7c9153f4-348b-4e7f-a95d-100ee7b5b3ff\")>,\n",
       " <selenium.webdriver.remote.webelement.WebElement (session=\"4dc689dfda6209297cc6dacdd3d3e0ad\", element=\"7cea1ab3-0495-4014-a138-bcb288edc888\")>,\n",
       " <selenium.webdriver.remote.webelement.WebElement (session=\"4dc689dfda6209297cc6dacdd3d3e0ad\", element=\"4d6e83fb-c919-4ec9-8751-fadf6b7dd407\")>,\n",
       " <selenium.webdriver.remote.webelement.WebElement (session=\"4dc689dfda6209297cc6dacdd3d3e0ad\", element=\"f04effd7-dd6d-479d-8b22-51824cc6bfb9\")>,\n",
       " <selenium.webdriver.remote.webelement.WebElement (session=\"4dc689dfda6209297cc6dacdd3d3e0ad\", element=\"90a77de1-982d-4b1b-ab5d-09a4ac7ef98e\")>,\n",
       " <selenium.webdriver.remote.webelement.WebElement (session=\"4dc689dfda6209297cc6dacdd3d3e0ad\", element=\"0411d802-39a7-4d89-b0f7-0c47e3981def\")>,\n",
       " <selenium.webdriver.remote.webelement.WebElement (session=\"4dc689dfda6209297cc6dacdd3d3e0ad\", element=\"293599a8-8a3b-4c69-a7bd-0bae704bca70\")>,\n",
       " <selenium.webdriver.remote.webelement.WebElement (session=\"4dc689dfda6209297cc6dacdd3d3e0ad\", element=\"633fd0f3-8418-415f-8c66-56f0338d0d84\")>,\n",
       " <selenium.webdriver.remote.webelement.WebElement (session=\"4dc689dfda6209297cc6dacdd3d3e0ad\", element=\"729ffeb0-47cb-4583-a7e4-126cb8447003\")>,\n",
       " <selenium.webdriver.remote.webelement.WebElement (session=\"4dc689dfda6209297cc6dacdd3d3e0ad\", element=\"63cc8d76-8d64-4358-a646-6a5d4ebb06e3\")>,\n",
       " <selenium.webdriver.remote.webelement.WebElement (session=\"4dc689dfda6209297cc6dacdd3d3e0ad\", element=\"608df28b-37ee-4a8d-88a8-d81f3ea27167\")>,\n",
       " <selenium.webdriver.remote.webelement.WebElement (session=\"4dc689dfda6209297cc6dacdd3d3e0ad\", element=\"9401e5f5-2ba0-4370-9eab-e4d0d63689bb\")>,\n",
       " <selenium.webdriver.remote.webelement.WebElement (session=\"4dc689dfda6209297cc6dacdd3d3e0ad\", element=\"e58a9849-832c-4180-a636-9cc06c94cfd9\")>]"
      ]
     },
     "execution_count": 12,
     "metadata": {},
     "output_type": "execute_result"
    }
   ],
   "source": [
    "# Let's find the job titles \n",
    "\n",
    "titles_tags = driver.find_elements_by_xpath('//a[@class=\"title fw500 ellipsis\"]')\n",
    "titles_tags"
   ]
  },
  {
   "cell_type": "code",
   "execution_count": 13,
   "metadata": {},
   "outputs": [
    {
     "data": {
      "text/plain": [
       "['Data Scientist: Advanced Analytics',\n",
       " 'Senior Data Scientist',\n",
       " 'Data Scientist - IIT/NIT/BITS',\n",
       " 'We are hiring- Data Scientist +Pyspark+ Devops - Noida',\n",
       " 'Data Scientist',\n",
       " 'Senior Data Scientist',\n",
       " 'Data Scientist/ Analyst Specialist',\n",
       " 'Data Scientist',\n",
       " 'Machine Learning Developer - Data Scientist',\n",
       " 'Data Scientist/ Senior Data Scientist',\n",
       " 'Data Scientist: Artificial Intelligence',\n",
       " 'Data Scientist - BFSI',\n",
       " 'Sr. Data Scientist',\n",
       " 'Data Scientist',\n",
       " 'Data Scientist - BFSI',\n",
       " 'Senior Data Scientist - Machine Learning',\n",
       " 'Senior Data Scientist - Product Development Firm - IIT/ NIT/ BITS',\n",
       " 'Data Scientist - KPO - IIT/NIT/BITS',\n",
       " 'Data Scientist - SAS/SQL/SPSS',\n",
       " 'Lead Data Scientist']"
      ]
     },
     "execution_count": 13,
     "metadata": {},
     "output_type": "execute_result"
    }
   ],
   "source": [
    "# extracting the job titles from titles_tags\n",
    "\n",
    "job_titles = []\n",
    "for i in titles_tags:\n",
    "    job_titles.append(i.text)\n",
    "job_titles"
   ]
  },
  {
   "cell_type": "code",
   "execution_count": 14,
   "metadata": {},
   "outputs": [
    {
     "data": {
      "text/plain": [
       "[<selenium.webdriver.remote.webelement.WebElement (session=\"4dc689dfda6209297cc6dacdd3d3e0ad\", element=\"eb148a2a-6580-4cdc-936b-45f625b047c5\")>,\n",
       " <selenium.webdriver.remote.webelement.WebElement (session=\"4dc689dfda6209297cc6dacdd3d3e0ad\", element=\"46ebb6d0-3a59-474a-bc82-25d22ab63474\")>,\n",
       " <selenium.webdriver.remote.webelement.WebElement (session=\"4dc689dfda6209297cc6dacdd3d3e0ad\", element=\"dd124217-d4d3-4810-8490-ef946da31659\")>,\n",
       " <selenium.webdriver.remote.webelement.WebElement (session=\"4dc689dfda6209297cc6dacdd3d3e0ad\", element=\"824edf0d-f7c5-4828-8f36-b64830d8770e\")>,\n",
       " <selenium.webdriver.remote.webelement.WebElement (session=\"4dc689dfda6209297cc6dacdd3d3e0ad\", element=\"a7591557-12ee-4d20-9542-fd577fa6a5e2\")>,\n",
       " <selenium.webdriver.remote.webelement.WebElement (session=\"4dc689dfda6209297cc6dacdd3d3e0ad\", element=\"03d5b8a0-565b-4b9d-90e9-cc504f4634dd\")>,\n",
       " <selenium.webdriver.remote.webelement.WebElement (session=\"4dc689dfda6209297cc6dacdd3d3e0ad\", element=\"a97e7432-0e23-45a1-9909-1e37eb416842\")>,\n",
       " <selenium.webdriver.remote.webelement.WebElement (session=\"4dc689dfda6209297cc6dacdd3d3e0ad\", element=\"64639f19-3820-4893-9e5d-68e9389f36f8\")>,\n",
       " <selenium.webdriver.remote.webelement.WebElement (session=\"4dc689dfda6209297cc6dacdd3d3e0ad\", element=\"fb3d3657-a7e1-4722-9462-1cf526c5a464\")>,\n",
       " <selenium.webdriver.remote.webelement.WebElement (session=\"4dc689dfda6209297cc6dacdd3d3e0ad\", element=\"4845a573-98cd-4b67-8855-6be0ec07c5c1\")>,\n",
       " <selenium.webdriver.remote.webelement.WebElement (session=\"4dc689dfda6209297cc6dacdd3d3e0ad\", element=\"77ef21ee-908f-4449-9a82-5e34b311cbac\")>,\n",
       " <selenium.webdriver.remote.webelement.WebElement (session=\"4dc689dfda6209297cc6dacdd3d3e0ad\", element=\"ad56f724-d153-4675-b969-d70872d09896\")>,\n",
       " <selenium.webdriver.remote.webelement.WebElement (session=\"4dc689dfda6209297cc6dacdd3d3e0ad\", element=\"64c454c7-b536-4c97-8c81-4fede287a012\")>,\n",
       " <selenium.webdriver.remote.webelement.WebElement (session=\"4dc689dfda6209297cc6dacdd3d3e0ad\", element=\"e6f8b164-8ad4-4e10-a4d8-e8b7a96d5120\")>,\n",
       " <selenium.webdriver.remote.webelement.WebElement (session=\"4dc689dfda6209297cc6dacdd3d3e0ad\", element=\"6eabdcf7-db9d-4446-bf83-cd6a126d7a10\")>,\n",
       " <selenium.webdriver.remote.webelement.WebElement (session=\"4dc689dfda6209297cc6dacdd3d3e0ad\", element=\"b3a9ea2f-9f3d-40c0-9684-f8024cd6f2ee\")>,\n",
       " <selenium.webdriver.remote.webelement.WebElement (session=\"4dc689dfda6209297cc6dacdd3d3e0ad\", element=\"1cc0a35e-ddf2-49ef-bb7f-ea8fe1545349\")>,\n",
       " <selenium.webdriver.remote.webelement.WebElement (session=\"4dc689dfda6209297cc6dacdd3d3e0ad\", element=\"1677f974-8b3c-4e3f-8480-ed312d03e962\")>,\n",
       " <selenium.webdriver.remote.webelement.WebElement (session=\"4dc689dfda6209297cc6dacdd3d3e0ad\", element=\"f7a9b7c7-4053-4f04-a826-3a8a53b33762\")>,\n",
       " <selenium.webdriver.remote.webelement.WebElement (session=\"4dc689dfda6209297cc6dacdd3d3e0ad\", element=\"3151382f-eb89-43d4-aa46-a29213ad6ac9\")>]"
      ]
     },
     "execution_count": 14,
     "metadata": {},
     "output_type": "execute_result"
    }
   ],
   "source": [
    "# finding the company names\n",
    "\n",
    "company_name = driver.find_elements_by_xpath('//a[@class=\"subTitle ellipsis fleft\"]')\n",
    "company_name"
   ]
  },
  {
   "cell_type": "code",
   "execution_count": 15,
   "metadata": {},
   "outputs": [
    {
     "data": {
      "text/plain": [
       "['IBM India Pvt. Limited',\n",
       " 'SentinelOne',\n",
       " 'CARS24',\n",
       " 'RANDSTAD INDIA PVT LTD',\n",
       " 'Software Data India Ltd.',\n",
       " 'inVentiv International Pharma Services Pvt. Ltd.',\n",
       " 'TransOrg Solutions Services (P) Ltd.',\n",
       " 'AlgoScale Technologies Private Limited',\n",
       " 'Compass Systems Private Limited',\n",
       " 'NMS Consultant',\n",
       " 'IBM India Pvt. Limited',\n",
       " 'Huquo Consulting Pvt. Ltd',\n",
       " 'Gartner',\n",
       " 'Oracle India Pvt. Ltd.',\n",
       " 'Black Turtle India Pvt Ltd',\n",
       " 'MarketScope',\n",
       " 'Huquo Consulting Pvt. Ltd',\n",
       " 'TalentCo Search Pvt Ltd',\n",
       " 'Talpro',\n",
       " 'TransOrg Solutions Services (P) Ltd.']"
      ]
     },
     "execution_count": 15,
     "metadata": {},
     "output_type": "execute_result"
    }
   ],
   "source": [
    "# extracting the company names\n",
    "\n",
    "company =[]\n",
    "for i in company_name:\n",
    "    company.append(i.text)\n",
    "company"
   ]
  },
  {
   "cell_type": "code",
   "execution_count": 16,
   "metadata": {},
   "outputs": [
    {
     "data": {
      "text/plain": [
       "[<selenium.webdriver.remote.webelement.WebElement (session=\"4dc689dfda6209297cc6dacdd3d3e0ad\", element=\"b2cc7b23-fd8f-4153-bced-6a461c12d6d9\")>,\n",
       " <selenium.webdriver.remote.webelement.WebElement (session=\"4dc689dfda6209297cc6dacdd3d3e0ad\", element=\"4e9057b7-5f3d-4f1b-a1e3-e94b24013d51\")>,\n",
       " <selenium.webdriver.remote.webelement.WebElement (session=\"4dc689dfda6209297cc6dacdd3d3e0ad\", element=\"f78e3f8e-d221-49ca-a5f3-fede1b7b0927\")>,\n",
       " <selenium.webdriver.remote.webelement.WebElement (session=\"4dc689dfda6209297cc6dacdd3d3e0ad\", element=\"26b7b061-15d6-4320-87e8-a23a7493fe35\")>,\n",
       " <selenium.webdriver.remote.webelement.WebElement (session=\"4dc689dfda6209297cc6dacdd3d3e0ad\", element=\"70d1bbd7-d7e4-4a6f-9914-2f6dcbfbf4da\")>,\n",
       " <selenium.webdriver.remote.webelement.WebElement (session=\"4dc689dfda6209297cc6dacdd3d3e0ad\", element=\"4bea56c9-0a9c-4b04-922e-4cb7ab321a94\")>,\n",
       " <selenium.webdriver.remote.webelement.WebElement (session=\"4dc689dfda6209297cc6dacdd3d3e0ad\", element=\"d752875b-0527-4aa0-86a6-69792f235c2a\")>,\n",
       " <selenium.webdriver.remote.webelement.WebElement (session=\"4dc689dfda6209297cc6dacdd3d3e0ad\", element=\"821cd62d-d4f4-4fa0-9c54-2461034b7ce2\")>,\n",
       " <selenium.webdriver.remote.webelement.WebElement (session=\"4dc689dfda6209297cc6dacdd3d3e0ad\", element=\"13ef85a8-13d9-47f8-a47b-a9d2a1bc2c4b\")>,\n",
       " <selenium.webdriver.remote.webelement.WebElement (session=\"4dc689dfda6209297cc6dacdd3d3e0ad\", element=\"35c9606e-0481-4bfe-842b-0f7279413740\")>,\n",
       " <selenium.webdriver.remote.webelement.WebElement (session=\"4dc689dfda6209297cc6dacdd3d3e0ad\", element=\"503dcce3-8532-4820-837b-7be8ee121ddc\")>,\n",
       " <selenium.webdriver.remote.webelement.WebElement (session=\"4dc689dfda6209297cc6dacdd3d3e0ad\", element=\"a6846b79-5efb-4efb-8007-7a4fac721a86\")>,\n",
       " <selenium.webdriver.remote.webelement.WebElement (session=\"4dc689dfda6209297cc6dacdd3d3e0ad\", element=\"4a9d1597-2acc-4b50-a0f0-ac61e26295f1\")>,\n",
       " <selenium.webdriver.remote.webelement.WebElement (session=\"4dc689dfda6209297cc6dacdd3d3e0ad\", element=\"ce18da43-3f30-4497-935f-6c69fc9cacdc\")>,\n",
       " <selenium.webdriver.remote.webelement.WebElement (session=\"4dc689dfda6209297cc6dacdd3d3e0ad\", element=\"6f719b9f-6a87-4cce-8d5f-1a2c6e948c1d\")>,\n",
       " <selenium.webdriver.remote.webelement.WebElement (session=\"4dc689dfda6209297cc6dacdd3d3e0ad\", element=\"6ed932b3-37e4-4a0d-afd7-5ab06ee727ab\")>,\n",
       " <selenium.webdriver.remote.webelement.WebElement (session=\"4dc689dfda6209297cc6dacdd3d3e0ad\", element=\"64bba8f1-4d67-49cf-9699-8198bb78aa87\")>,\n",
       " <selenium.webdriver.remote.webelement.WebElement (session=\"4dc689dfda6209297cc6dacdd3d3e0ad\", element=\"e94bbcb3-7d77-42b3-8541-32eefe47488d\")>,\n",
       " <selenium.webdriver.remote.webelement.WebElement (session=\"4dc689dfda6209297cc6dacdd3d3e0ad\", element=\"377eb374-bd11-423c-b83a-725503c1a38a\")>,\n",
       " <selenium.webdriver.remote.webelement.WebElement (session=\"4dc689dfda6209297cc6dacdd3d3e0ad\", element=\"a1ad3610-47e0-47f3-b7bc-a06e3ee16407\")>]"
      ]
     },
     "execution_count": 16,
     "metadata": {},
     "output_type": "execute_result"
    }
   ],
   "source": [
    "# finding the experience\n",
    "\n",
    "experience_tag = driver.find_elements_by_xpath('//li[@class=\"fleft grey-text br2 placeHolderLi experience\"]')\n",
    "experience_tag"
   ]
  },
  {
   "cell_type": "code",
   "execution_count": 17,
   "metadata": {},
   "outputs": [
    {
     "data": {
      "text/plain": [
       "['5-10 Yrs',\n",
       " '4-6 Yrs',\n",
       " '1-6 Yrs',\n",
       " '4-9 Yrs',\n",
       " '5-10 Yrs',\n",
       " '3-6 Yrs',\n",
       " '2-4 Yrs',\n",
       " '2-6 Yrs',\n",
       " '3-8 Yrs',\n",
       " '3-8 Yrs',\n",
       " '4-6 Yrs',\n",
       " '3-8 Yrs',\n",
       " '6-8 Yrs',\n",
       " '5-9 Yrs',\n",
       " '8-13 Yrs',\n",
       " '5-8 Yrs',\n",
       " '5-10 Yrs',\n",
       " '2-7 Yrs',\n",
       " '8-12 Yrs',\n",
       " '4-6 Yrs']"
      ]
     },
     "execution_count": 17,
     "metadata": {},
     "output_type": "execute_result"
    }
   ],
   "source": [
    "# extracting the experience\n",
    "\n",
    "experience = []\n",
    "for i in experience_tag:\n",
    "    experience.append(i.text)\n",
    "experience"
   ]
  },
  {
   "cell_type": "code",
   "execution_count": 18,
   "metadata": {},
   "outputs": [
    {
     "data": {
      "text/plain": [
       "[<selenium.webdriver.remote.webelement.WebElement (session=\"4dc689dfda6209297cc6dacdd3d3e0ad\", element=\"631a16f7-4039-4328-b45d-f3bddf905ec5\")>,\n",
       " <selenium.webdriver.remote.webelement.WebElement (session=\"4dc689dfda6209297cc6dacdd3d3e0ad\", element=\"fb8e781c-95b9-4753-9e84-83a94e8cc13f\")>,\n",
       " <selenium.webdriver.remote.webelement.WebElement (session=\"4dc689dfda6209297cc6dacdd3d3e0ad\", element=\"426db5d6-1eab-4702-8710-6dae59d6e90f\")>,\n",
       " <selenium.webdriver.remote.webelement.WebElement (session=\"4dc689dfda6209297cc6dacdd3d3e0ad\", element=\"504069f3-b1dc-443e-b684-41908fc1694e\")>,\n",
       " <selenium.webdriver.remote.webelement.WebElement (session=\"4dc689dfda6209297cc6dacdd3d3e0ad\", element=\"15fdf9d3-bafe-47bc-b366-2af11e0b99f4\")>,\n",
       " <selenium.webdriver.remote.webelement.WebElement (session=\"4dc689dfda6209297cc6dacdd3d3e0ad\", element=\"c5575823-b8bf-4c25-a659-bb88dd48c938\")>,\n",
       " <selenium.webdriver.remote.webelement.WebElement (session=\"4dc689dfda6209297cc6dacdd3d3e0ad\", element=\"7966870d-5a84-4e05-b421-0c42d5f96616\")>,\n",
       " <selenium.webdriver.remote.webelement.WebElement (session=\"4dc689dfda6209297cc6dacdd3d3e0ad\", element=\"4dd63c11-ca47-4a2b-96f1-69880253a7c1\")>,\n",
       " <selenium.webdriver.remote.webelement.WebElement (session=\"4dc689dfda6209297cc6dacdd3d3e0ad\", element=\"532bc4c3-b727-4162-970c-93aa95a84d43\")>,\n",
       " <selenium.webdriver.remote.webelement.WebElement (session=\"4dc689dfda6209297cc6dacdd3d3e0ad\", element=\"08fc3a2a-558f-40ff-a040-805443e42690\")>,\n",
       " <selenium.webdriver.remote.webelement.WebElement (session=\"4dc689dfda6209297cc6dacdd3d3e0ad\", element=\"ef1b3859-1d1a-4bff-8443-99105b018706\")>,\n",
       " <selenium.webdriver.remote.webelement.WebElement (session=\"4dc689dfda6209297cc6dacdd3d3e0ad\", element=\"ad818a8b-45f3-40e8-bd0d-38520cf20740\")>,\n",
       " <selenium.webdriver.remote.webelement.WebElement (session=\"4dc689dfda6209297cc6dacdd3d3e0ad\", element=\"4d559e1f-8e83-4cab-b713-3973dcac4fda\")>,\n",
       " <selenium.webdriver.remote.webelement.WebElement (session=\"4dc689dfda6209297cc6dacdd3d3e0ad\", element=\"8df8d793-156d-4615-828a-1d858c7fb6f4\")>,\n",
       " <selenium.webdriver.remote.webelement.WebElement (session=\"4dc689dfda6209297cc6dacdd3d3e0ad\", element=\"4a56760d-96a2-4aa5-a3b5-15d25988f90b\")>,\n",
       " <selenium.webdriver.remote.webelement.WebElement (session=\"4dc689dfda6209297cc6dacdd3d3e0ad\", element=\"d510b3c3-78d0-40f3-8bed-9b99f369e029\")>,\n",
       " <selenium.webdriver.remote.webelement.WebElement (session=\"4dc689dfda6209297cc6dacdd3d3e0ad\", element=\"459b57ff-e85d-46f7-bd01-b2cfdf530484\")>,\n",
       " <selenium.webdriver.remote.webelement.WebElement (session=\"4dc689dfda6209297cc6dacdd3d3e0ad\", element=\"5ab4ed5e-db31-4dea-af4d-63652c8e0b7b\")>,\n",
       " <selenium.webdriver.remote.webelement.WebElement (session=\"4dc689dfda6209297cc6dacdd3d3e0ad\", element=\"b8a08413-9d4b-4b0b-9803-fb2eb839697f\")>,\n",
       " <selenium.webdriver.remote.webelement.WebElement (session=\"4dc689dfda6209297cc6dacdd3d3e0ad\", element=\"8ee105ae-7ee6-400f-96d4-4f6c43cee9f6\")>]"
      ]
     },
     "execution_count": 18,
     "metadata": {},
     "output_type": "execute_result"
    }
   ],
   "source": [
    "# finding the job location\n",
    "\n",
    "location_tag = driver.find_elements_by_xpath('//li[@class=\"fleft grey-text br2 placeHolderLi location\"]')\n",
    "location_tag"
   ]
  },
  {
   "cell_type": "code",
   "execution_count": 19,
   "metadata": {},
   "outputs": [
    {
     "data": {
      "text/plain": [
       "['Delhi / NCR',\n",
       " 'Gurgaon/Gurugram',\n",
       " 'Gurgaon/Gurugram',\n",
       " 'Noida, Gurgaon/Gurugram, Delhi / NCR',\n",
       " 'Noida, Gurgaon/Gurugram, Bangalore/Bengaluru, Delhi / NCR',\n",
       " 'Hyderabad/Secunderabad, Gurgaon/Gurugram, Bangalore/Bengaluru',\n",
       " 'Noida, New Delhi, Gurgaon/Gurugram, Bangalore/Bengaluru, Delhi / NCR, Mumbai (All Areas)',\n",
       " 'Noida(Sector-62 Noida)\\n(WFH during Covid)',\n",
       " 'Noida',\n",
       " 'Mumbai, Delhi / NCR\\n(WFH during Covid)',\n",
       " 'Noida',\n",
       " 'Gurgaon/Gurugram, Delhi / NCR',\n",
       " 'Gurgaon/Gurugram',\n",
       " 'Noida, Bangalore/Bengaluru',\n",
       " 'Pune, Chennai, Bangalore/Bengaluru, Delhi / NCR',\n",
       " 'Delhi / NCR',\n",
       " 'Gurgaon/Gurugram, Delhi / NCR',\n",
       " 'Mumbai, Bangalore/Bengaluru, Delhi NCR',\n",
       " 'Delhi / NCR, Bangalore/Bengaluru',\n",
       " 'Bangalore/Bengaluru, Delhi / NCR, Mumbai (All Areas)\\n(WFH during Covid)']"
      ]
     },
     "execution_count": 19,
     "metadata": {},
     "output_type": "execute_result"
    }
   ],
   "source": [
    "# extracting the job location\n",
    "\n",
    "location = []\n",
    "for i in location_tag:\n",
    "    location.append(i.text)\n",
    "location"
   ]
  },
  {
   "cell_type": "code",
   "execution_count": 20,
   "metadata": {
    "scrolled": true
   },
   "outputs": [
    {
     "data": {
      "text/plain": [
       "[<selenium.webdriver.remote.webelement.WebElement (session=\"4dc689dfda6209297cc6dacdd3d3e0ad\", element=\"49ff67e1-40a0-45fd-ade0-4f4753a4b3ee\")>,\n",
       " <selenium.webdriver.remote.webelement.WebElement (session=\"4dc689dfda6209297cc6dacdd3d3e0ad\", element=\"dba958d9-c98f-4c3e-b509-39fd4245c5b9\")>,\n",
       " <selenium.webdriver.remote.webelement.WebElement (session=\"4dc689dfda6209297cc6dacdd3d3e0ad\", element=\"bf011843-acce-48cc-ac48-e896b9f55927\")>,\n",
       " <selenium.webdriver.remote.webelement.WebElement (session=\"4dc689dfda6209297cc6dacdd3d3e0ad\", element=\"7dfeb7ed-f373-431a-acfd-d52a4c5d9f7a\")>,\n",
       " <selenium.webdriver.remote.webelement.WebElement (session=\"4dc689dfda6209297cc6dacdd3d3e0ad\", element=\"f48d36bc-64de-4e59-8aec-3ea9958fe64e\")>,\n",
       " <selenium.webdriver.remote.webelement.WebElement (session=\"4dc689dfda6209297cc6dacdd3d3e0ad\", element=\"14356559-d0ba-4c09-a736-288368559204\")>,\n",
       " <selenium.webdriver.remote.webelement.WebElement (session=\"4dc689dfda6209297cc6dacdd3d3e0ad\", element=\"dc390f58-3a90-4913-a5e7-b04a415932ef\")>,\n",
       " <selenium.webdriver.remote.webelement.WebElement (session=\"4dc689dfda6209297cc6dacdd3d3e0ad\", element=\"7c9153f4-348b-4e7f-a95d-100ee7b5b3ff\")>,\n",
       " <selenium.webdriver.remote.webelement.WebElement (session=\"4dc689dfda6209297cc6dacdd3d3e0ad\", element=\"7cea1ab3-0495-4014-a138-bcb288edc888\")>,\n",
       " <selenium.webdriver.remote.webelement.WebElement (session=\"4dc689dfda6209297cc6dacdd3d3e0ad\", element=\"4d6e83fb-c919-4ec9-8751-fadf6b7dd407\")>,\n",
       " <selenium.webdriver.remote.webelement.WebElement (session=\"4dc689dfda6209297cc6dacdd3d3e0ad\", element=\"f04effd7-dd6d-479d-8b22-51824cc6bfb9\")>,\n",
       " <selenium.webdriver.remote.webelement.WebElement (session=\"4dc689dfda6209297cc6dacdd3d3e0ad\", element=\"90a77de1-982d-4b1b-ab5d-09a4ac7ef98e\")>,\n",
       " <selenium.webdriver.remote.webelement.WebElement (session=\"4dc689dfda6209297cc6dacdd3d3e0ad\", element=\"0411d802-39a7-4d89-b0f7-0c47e3981def\")>,\n",
       " <selenium.webdriver.remote.webelement.WebElement (session=\"4dc689dfda6209297cc6dacdd3d3e0ad\", element=\"293599a8-8a3b-4c69-a7bd-0bae704bca70\")>,\n",
       " <selenium.webdriver.remote.webelement.WebElement (session=\"4dc689dfda6209297cc6dacdd3d3e0ad\", element=\"633fd0f3-8418-415f-8c66-56f0338d0d84\")>,\n",
       " <selenium.webdriver.remote.webelement.WebElement (session=\"4dc689dfda6209297cc6dacdd3d3e0ad\", element=\"729ffeb0-47cb-4583-a7e4-126cb8447003\")>,\n",
       " <selenium.webdriver.remote.webelement.WebElement (session=\"4dc689dfda6209297cc6dacdd3d3e0ad\", element=\"63cc8d76-8d64-4358-a646-6a5d4ebb06e3\")>,\n",
       " <selenium.webdriver.remote.webelement.WebElement (session=\"4dc689dfda6209297cc6dacdd3d3e0ad\", element=\"608df28b-37ee-4a8d-88a8-d81f3ea27167\")>,\n",
       " <selenium.webdriver.remote.webelement.WebElement (session=\"4dc689dfda6209297cc6dacdd3d3e0ad\", element=\"9401e5f5-2ba0-4370-9eab-e4d0d63689bb\")>,\n",
       " <selenium.webdriver.remote.webelement.WebElement (session=\"4dc689dfda6209297cc6dacdd3d3e0ad\", element=\"e58a9849-832c-4180-a636-9cc06c94cfd9\")>]"
      ]
     },
     "execution_count": 20,
     "metadata": {},
     "output_type": "execute_result"
    }
   ],
   "source": [
    "# finding the job links\n",
    "\n",
    "links = driver.find_elements_by_xpath('//a[@class=\"title fw500 ellipsis\"]')\n",
    "links"
   ]
  },
  {
   "cell_type": "code",
   "execution_count": 21,
   "metadata": {},
   "outputs": [
    {
     "data": {
      "text/plain": [
       "['https://www.naukri.com/job-listings-data-scientist-advanced-analytics-ibm-india-pvt-limited-delhi-ncr-5-to-10-years-230721906709?src=jobsearchDesk&sid=16271616783465707&xp=1&px=1',\n",
       " 'https://www.naukri.com/job-listings-senior-data-scientist-sentinelone-gurgaon-gurugram-4-to-6-years-220721000156?src=jobsearchDesk&sid=16271616783465707&xp=2&px=1',\n",
       " 'https://www.naukri.com/job-listings-data-scientist-iit-nit-bits-cars24-gurgaon-gurugram-1-to-6-years-230721907377?src=jobsearchDesk&sid=16271616783465707&xp=3&px=1',\n",
       " 'https://www.naukri.com/job-listings-we-are-hiring-data-scientist-pyspark-devops-noida-randstad-india-pvt-ltd-noida-gurgaon-gurugram-delhi-ncr-4-to-9-years-040621000064?src=jobsearchDesk&sid=16271616783465707&xp=4&px=1',\n",
       " 'https://www.naukri.com/job-listings-data-scientist-software-data-india-ltd-noida-gurgaon-gurugram-bangalore-bengaluru-delhi-ncr-5-to-10-years-180621003560?src=jobsearchDesk&sid=16271616783465707&xp=5&px=1',\n",
       " 'https://www.naukri.com/job-listings-senior-data-scientist-inventiv-international-pharma-services-pvt-ltd-hyderabad-secunderabad-gurgaon-gurugram-bangalore-bengaluru-3-to-6-years-090721000064?src=jobsearchDesk&sid=16271616783465707&xp=6&px=1',\n",
       " 'https://www.naukri.com/job-listings-data-scientist-analyst-specialist-transorg-solutions-services-p-ltd-noida-new-delhi-gurgaon-gurugram-bangalore-bengaluru-delhi-ncr-mumbai-all-areas-2-to-4-years-160721004747?src=jobsearchDesk&sid=16271616783465707&xp=7&px=1',\n",
       " 'https://www.naukri.com/job-listings-data-scientist-algoscale-technologies-private-limited-noida-2-to-6-years-220721008486?src=jobsearchDesk&sid=16271616783465707&xp=8&px=1',\n",
       " 'https://www.naukri.com/job-listings-machine-learning-developer-data-scientist-compass-systems-private-limited-noida-3-to-8-years-080621007731?src=jobsearchDesk&sid=16271616783465707&xp=9&px=1',\n",
       " 'https://www.naukri.com/job-listings-data-scientist-senior-data-scientist-nms-consultant-mumbai-delhi-ncr-3-to-8-years-240721000963?src=jobsearchDesk&sid=16271616783465707&xp=10&px=1',\n",
       " 'https://www.naukri.com/job-listings-data-scientist-artificial-intelligence-ibm-india-pvt-limited-noida-4-to-6-years-220721907865?src=jobsearchDesk&sid=16271616783465707&xp=11&px=1',\n",
       " 'https://www.naukri.com/job-listings-data-scientist-bfsi-huquo-consulting-pvt-ltd-gurgaon-gurugram-delhi-ncr-3-to-8-years-230721905011?src=jobsearchDesk&sid=16271616783465707&xp=12&px=1',\n",
       " 'https://www.naukri.com/job-listings-sr-data-scientist-gartner-india-research-advisory-services-pvt-ltd-gurgaon-gurugram-6-to-8-years-190721502164?src=jobsearchDesk&sid=16271616783465707&xp=13&px=1',\n",
       " 'https://www.naukri.com/job-listings-data-scientist-oracle-india-pvt-ltd-noida-bangalore-bengaluru-5-to-9-years-010621004567?src=jobsearchDesk&sid=16271616783465707&xp=14&px=1',\n",
       " 'https://www.naukri.com/job-listings-data-scientist-bfsi-black-turtle-india-pvt-ltd-pune-chennai-bangalore-bengaluru-delhi-ncr-8-to-13-years-190721907510?src=jobsearchDesk&sid=16271616783465707&xp=15&px=1',\n",
       " 'https://www.naukri.com/job-listings-senior-data-scientist-machine-learning-marketscope-delhi-ncr-5-to-8-years-200421909957?src=jobsearchDesk&sid=16271616783465707&xp=16&px=1',\n",
       " 'https://www.naukri.com/job-listings-senior-data-scientist-product-development-firm-iit-nit-bits-huquo-consulting-pvt-ltd-gurgaon-gurugram-delhi-ncr-5-to-10-years-140221900583?src=jobsearchDesk&sid=16271616783465707&xp=17&px=1',\n",
       " 'https://www.naukri.com/job-listings-data-scientist-kpo-iit-nit-bits-talentco-search-pvt-ltd-mumbai-bangalore-bengaluru-delhi-ncr-2-to-7-years-300321902962?src=jobsearchDesk&sid=16271616783465707&xp=18&px=1',\n",
       " 'https://www.naukri.com/job-listings-data-scientist-sas-sql-spss-talpro-delhi-ncr-bangalore-bengaluru-8-to-12-years-100221901678?src=jobsearchDesk&sid=16271616783465707&xp=19&px=1',\n",
       " 'https://www.naukri.com/job-listings-lead-data-scientist-transorg-solutions-services-p-ltd-bangalore-bengaluru-delhi-ncr-mumbai-all-areas-4-to-6-years-160721005471?src=jobsearchDesk&sid=16271616783465707&xp=20&px=1']"
      ]
     },
     "execution_count": 21,
     "metadata": {},
     "output_type": "execute_result"
    }
   ],
   "source": [
    "# extracting the job links\n",
    "\n",
    "job_links = []\n",
    "for i in links:\n",
    "    job_links.append(i.get_attribute('href'))\n",
    "job_links"
   ]
  },
  {
   "cell_type": "markdown",
   "metadata": {},
   "source": [
    "### Before proceeding to the DataFrame it is mandatory to find the length of all elements. if we found the same length of all elements then we will proceed to the data frame but if found different length then we have to check again"
   ]
  },
  {
   "cell_type": "code",
   "execution_count": 22,
   "metadata": {},
   "outputs": [
    {
     "name": "stdout",
     "output_type": "stream",
     "text": [
      "20 20 20 20 20\n"
     ]
    }
   ],
   "source": [
    "# finding the length of all elements...\n",
    "\n",
    "print(len(job_titles), len(company), len(experience), len(location), len(job_links))"
   ]
  },
  {
   "cell_type": "markdown",
   "metadata": {},
   "source": [
    "Now it's clear that the length of all elements are same. Now we will go to the DataFrame"
   ]
  },
  {
   "cell_type": "markdown",
   "metadata": {},
   "source": [
    "### Jobs_Data Is Ready -->>"
   ]
  },
  {
   "cell_type": "code",
   "execution_count": 23,
   "metadata": {
    "scrolled": true
   },
   "outputs": [
    {
     "data": {
      "text/html": [
       "<div>\n",
       "<style scoped>\n",
       "    .dataframe tbody tr th:only-of-type {\n",
       "        vertical-align: middle;\n",
       "    }\n",
       "\n",
       "    .dataframe tbody tr th {\n",
       "        vertical-align: top;\n",
       "    }\n",
       "\n",
       "    .dataframe thead th {\n",
       "        text-align: right;\n",
       "    }\n",
       "</style>\n",
       "<table border=\"1\" class=\"dataframe\">\n",
       "  <thead>\n",
       "    <tr style=\"text-align: right;\">\n",
       "      <th></th>\n",
       "      <th>Jobs Titles</th>\n",
       "      <th>Company Name</th>\n",
       "      <th>Experience Required</th>\n",
       "      <th>Location</th>\n",
       "      <th>Job Links</th>\n",
       "    </tr>\n",
       "  </thead>\n",
       "  <tbody>\n",
       "    <tr>\n",
       "      <th>0</th>\n",
       "      <td>Data Scientist: Advanced Analytics</td>\n",
       "      <td>IBM India Pvt. Limited</td>\n",
       "      <td>5-10 Yrs</td>\n",
       "      <td>Delhi / NCR</td>\n",
       "      <td>https://www.naukri.com/job-listings-data-scien...</td>\n",
       "    </tr>\n",
       "    <tr>\n",
       "      <th>1</th>\n",
       "      <td>Senior Data Scientist</td>\n",
       "      <td>SentinelOne</td>\n",
       "      <td>4-6 Yrs</td>\n",
       "      <td>Gurgaon/Gurugram</td>\n",
       "      <td>https://www.naukri.com/job-listings-senior-dat...</td>\n",
       "    </tr>\n",
       "    <tr>\n",
       "      <th>2</th>\n",
       "      <td>Data Scientist - IIT/NIT/BITS</td>\n",
       "      <td>CARS24</td>\n",
       "      <td>1-6 Yrs</td>\n",
       "      <td>Gurgaon/Gurugram</td>\n",
       "      <td>https://www.naukri.com/job-listings-data-scien...</td>\n",
       "    </tr>\n",
       "    <tr>\n",
       "      <th>3</th>\n",
       "      <td>We are hiring- Data Scientist +Pyspark+ Devops...</td>\n",
       "      <td>RANDSTAD INDIA PVT LTD</td>\n",
       "      <td>4-9 Yrs</td>\n",
       "      <td>Noida, Gurgaon/Gurugram, Delhi / NCR</td>\n",
       "      <td>https://www.naukri.com/job-listings-we-are-hir...</td>\n",
       "    </tr>\n",
       "    <tr>\n",
       "      <th>4</th>\n",
       "      <td>Data Scientist</td>\n",
       "      <td>Software Data India Ltd.</td>\n",
       "      <td>5-10 Yrs</td>\n",
       "      <td>Noida, Gurgaon/Gurugram, Bangalore/Bengaluru, ...</td>\n",
       "      <td>https://www.naukri.com/job-listings-data-scien...</td>\n",
       "    </tr>\n",
       "    <tr>\n",
       "      <th>5</th>\n",
       "      <td>Senior Data Scientist</td>\n",
       "      <td>inVentiv International Pharma Services Pvt. Ltd.</td>\n",
       "      <td>3-6 Yrs</td>\n",
       "      <td>Hyderabad/Secunderabad, Gurgaon/Gurugram, Bang...</td>\n",
       "      <td>https://www.naukri.com/job-listings-senior-dat...</td>\n",
       "    </tr>\n",
       "    <tr>\n",
       "      <th>6</th>\n",
       "      <td>Data Scientist/ Analyst Specialist</td>\n",
       "      <td>TransOrg Solutions Services (P) Ltd.</td>\n",
       "      <td>2-4 Yrs</td>\n",
       "      <td>Noida, New Delhi, Gurgaon/Gurugram, Bangalore/...</td>\n",
       "      <td>https://www.naukri.com/job-listings-data-scien...</td>\n",
       "    </tr>\n",
       "    <tr>\n",
       "      <th>7</th>\n",
       "      <td>Data Scientist</td>\n",
       "      <td>AlgoScale Technologies Private Limited</td>\n",
       "      <td>2-6 Yrs</td>\n",
       "      <td>Noida(Sector-62 Noida)\\n(WFH during Covid)</td>\n",
       "      <td>https://www.naukri.com/job-listings-data-scien...</td>\n",
       "    </tr>\n",
       "    <tr>\n",
       "      <th>8</th>\n",
       "      <td>Machine Learning Developer - Data Scientist</td>\n",
       "      <td>Compass Systems Private Limited</td>\n",
       "      <td>3-8 Yrs</td>\n",
       "      <td>Noida</td>\n",
       "      <td>https://www.naukri.com/job-listings-machine-le...</td>\n",
       "    </tr>\n",
       "    <tr>\n",
       "      <th>9</th>\n",
       "      <td>Data Scientist/ Senior Data Scientist</td>\n",
       "      <td>NMS Consultant</td>\n",
       "      <td>3-8 Yrs</td>\n",
       "      <td>Mumbai, Delhi / NCR\\n(WFH during Covid)</td>\n",
       "      <td>https://www.naukri.com/job-listings-data-scien...</td>\n",
       "    </tr>\n",
       "    <tr>\n",
       "      <th>10</th>\n",
       "      <td>Data Scientist: Artificial Intelligence</td>\n",
       "      <td>IBM India Pvt. Limited</td>\n",
       "      <td>4-6 Yrs</td>\n",
       "      <td>Noida</td>\n",
       "      <td>https://www.naukri.com/job-listings-data-scien...</td>\n",
       "    </tr>\n",
       "    <tr>\n",
       "      <th>11</th>\n",
       "      <td>Data Scientist - BFSI</td>\n",
       "      <td>Huquo Consulting Pvt. Ltd</td>\n",
       "      <td>3-8 Yrs</td>\n",
       "      <td>Gurgaon/Gurugram, Delhi / NCR</td>\n",
       "      <td>https://www.naukri.com/job-listings-data-scien...</td>\n",
       "    </tr>\n",
       "    <tr>\n",
       "      <th>12</th>\n",
       "      <td>Sr. Data Scientist</td>\n",
       "      <td>Gartner</td>\n",
       "      <td>6-8 Yrs</td>\n",
       "      <td>Gurgaon/Gurugram</td>\n",
       "      <td>https://www.naukri.com/job-listings-sr-data-sc...</td>\n",
       "    </tr>\n",
       "    <tr>\n",
       "      <th>13</th>\n",
       "      <td>Data Scientist</td>\n",
       "      <td>Oracle India Pvt. Ltd.</td>\n",
       "      <td>5-9 Yrs</td>\n",
       "      <td>Noida, Bangalore/Bengaluru</td>\n",
       "      <td>https://www.naukri.com/job-listings-data-scien...</td>\n",
       "    </tr>\n",
       "    <tr>\n",
       "      <th>14</th>\n",
       "      <td>Data Scientist - BFSI</td>\n",
       "      <td>Black Turtle India Pvt Ltd</td>\n",
       "      <td>8-13 Yrs</td>\n",
       "      <td>Pune, Chennai, Bangalore/Bengaluru, Delhi / NCR</td>\n",
       "      <td>https://www.naukri.com/job-listings-data-scien...</td>\n",
       "    </tr>\n",
       "    <tr>\n",
       "      <th>15</th>\n",
       "      <td>Senior Data Scientist - Machine Learning</td>\n",
       "      <td>MarketScope</td>\n",
       "      <td>5-8 Yrs</td>\n",
       "      <td>Delhi / NCR</td>\n",
       "      <td>https://www.naukri.com/job-listings-senior-dat...</td>\n",
       "    </tr>\n",
       "    <tr>\n",
       "      <th>16</th>\n",
       "      <td>Senior Data Scientist - Product Development Fi...</td>\n",
       "      <td>Huquo Consulting Pvt. Ltd</td>\n",
       "      <td>5-10 Yrs</td>\n",
       "      <td>Gurgaon/Gurugram, Delhi / NCR</td>\n",
       "      <td>https://www.naukri.com/job-listings-senior-dat...</td>\n",
       "    </tr>\n",
       "    <tr>\n",
       "      <th>17</th>\n",
       "      <td>Data Scientist - KPO - IIT/NIT/BITS</td>\n",
       "      <td>TalentCo Search Pvt Ltd</td>\n",
       "      <td>2-7 Yrs</td>\n",
       "      <td>Mumbai, Bangalore/Bengaluru, Delhi NCR</td>\n",
       "      <td>https://www.naukri.com/job-listings-data-scien...</td>\n",
       "    </tr>\n",
       "    <tr>\n",
       "      <th>18</th>\n",
       "      <td>Data Scientist - SAS/SQL/SPSS</td>\n",
       "      <td>Talpro</td>\n",
       "      <td>8-12 Yrs</td>\n",
       "      <td>Delhi / NCR, Bangalore/Bengaluru</td>\n",
       "      <td>https://www.naukri.com/job-listings-data-scien...</td>\n",
       "    </tr>\n",
       "    <tr>\n",
       "      <th>19</th>\n",
       "      <td>Lead Data Scientist</td>\n",
       "      <td>TransOrg Solutions Services (P) Ltd.</td>\n",
       "      <td>4-6 Yrs</td>\n",
       "      <td>Bangalore/Bengaluru, Delhi / NCR, Mumbai (All ...</td>\n",
       "      <td>https://www.naukri.com/job-listings-lead-data-...</td>\n",
       "    </tr>\n",
       "  </tbody>\n",
       "</table>\n",
       "</div>"
      ],
      "text/plain": [
       "                                          Jobs Titles  \\\n",
       "0                  Data Scientist: Advanced Analytics   \n",
       "1                               Senior Data Scientist   \n",
       "2                       Data Scientist - IIT/NIT/BITS   \n",
       "3   We are hiring- Data Scientist +Pyspark+ Devops...   \n",
       "4                                      Data Scientist   \n",
       "5                               Senior Data Scientist   \n",
       "6                  Data Scientist/ Analyst Specialist   \n",
       "7                                      Data Scientist   \n",
       "8         Machine Learning Developer - Data Scientist   \n",
       "9               Data Scientist/ Senior Data Scientist   \n",
       "10            Data Scientist: Artificial Intelligence   \n",
       "11                              Data Scientist - BFSI   \n",
       "12                                 Sr. Data Scientist   \n",
       "13                                     Data Scientist   \n",
       "14                              Data Scientist - BFSI   \n",
       "15           Senior Data Scientist - Machine Learning   \n",
       "16  Senior Data Scientist - Product Development Fi...   \n",
       "17                Data Scientist - KPO - IIT/NIT/BITS   \n",
       "18                      Data Scientist - SAS/SQL/SPSS   \n",
       "19                                Lead Data Scientist   \n",
       "\n",
       "                                        Company Name Experience Required  \\\n",
       "0                             IBM India Pvt. Limited            5-10 Yrs   \n",
       "1                                        SentinelOne             4-6 Yrs   \n",
       "2                                             CARS24             1-6 Yrs   \n",
       "3                             RANDSTAD INDIA PVT LTD             4-9 Yrs   \n",
       "4                           Software Data India Ltd.            5-10 Yrs   \n",
       "5   inVentiv International Pharma Services Pvt. Ltd.             3-6 Yrs   \n",
       "6               TransOrg Solutions Services (P) Ltd.             2-4 Yrs   \n",
       "7             AlgoScale Technologies Private Limited             2-6 Yrs   \n",
       "8                    Compass Systems Private Limited             3-8 Yrs   \n",
       "9                                     NMS Consultant             3-8 Yrs   \n",
       "10                            IBM India Pvt. Limited             4-6 Yrs   \n",
       "11                         Huquo Consulting Pvt. Ltd             3-8 Yrs   \n",
       "12                                           Gartner             6-8 Yrs   \n",
       "13                            Oracle India Pvt. Ltd.             5-9 Yrs   \n",
       "14                        Black Turtle India Pvt Ltd            8-13 Yrs   \n",
       "15                                       MarketScope             5-8 Yrs   \n",
       "16                         Huquo Consulting Pvt. Ltd            5-10 Yrs   \n",
       "17                           TalentCo Search Pvt Ltd             2-7 Yrs   \n",
       "18                                            Talpro            8-12 Yrs   \n",
       "19              TransOrg Solutions Services (P) Ltd.             4-6 Yrs   \n",
       "\n",
       "                                             Location  \\\n",
       "0                                         Delhi / NCR   \n",
       "1                                    Gurgaon/Gurugram   \n",
       "2                                    Gurgaon/Gurugram   \n",
       "3                Noida, Gurgaon/Gurugram, Delhi / NCR   \n",
       "4   Noida, Gurgaon/Gurugram, Bangalore/Bengaluru, ...   \n",
       "5   Hyderabad/Secunderabad, Gurgaon/Gurugram, Bang...   \n",
       "6   Noida, New Delhi, Gurgaon/Gurugram, Bangalore/...   \n",
       "7          Noida(Sector-62 Noida)\\n(WFH during Covid)   \n",
       "8                                               Noida   \n",
       "9             Mumbai, Delhi / NCR\\n(WFH during Covid)   \n",
       "10                                              Noida   \n",
       "11                      Gurgaon/Gurugram, Delhi / NCR   \n",
       "12                                   Gurgaon/Gurugram   \n",
       "13                         Noida, Bangalore/Bengaluru   \n",
       "14    Pune, Chennai, Bangalore/Bengaluru, Delhi / NCR   \n",
       "15                                        Delhi / NCR   \n",
       "16                      Gurgaon/Gurugram, Delhi / NCR   \n",
       "17             Mumbai, Bangalore/Bengaluru, Delhi NCR   \n",
       "18                   Delhi / NCR, Bangalore/Bengaluru   \n",
       "19  Bangalore/Bengaluru, Delhi / NCR, Mumbai (All ...   \n",
       "\n",
       "                                            Job Links  \n",
       "0   https://www.naukri.com/job-listings-data-scien...  \n",
       "1   https://www.naukri.com/job-listings-senior-dat...  \n",
       "2   https://www.naukri.com/job-listings-data-scien...  \n",
       "3   https://www.naukri.com/job-listings-we-are-hir...  \n",
       "4   https://www.naukri.com/job-listings-data-scien...  \n",
       "5   https://www.naukri.com/job-listings-senior-dat...  \n",
       "6   https://www.naukri.com/job-listings-data-scien...  \n",
       "7   https://www.naukri.com/job-listings-data-scien...  \n",
       "8   https://www.naukri.com/job-listings-machine-le...  \n",
       "9   https://www.naukri.com/job-listings-data-scien...  \n",
       "10  https://www.naukri.com/job-listings-data-scien...  \n",
       "11  https://www.naukri.com/job-listings-data-scien...  \n",
       "12  https://www.naukri.com/job-listings-sr-data-sc...  \n",
       "13  https://www.naukri.com/job-listings-data-scien...  \n",
       "14  https://www.naukri.com/job-listings-data-scien...  \n",
       "15  https://www.naukri.com/job-listings-senior-dat...  \n",
       "16  https://www.naukri.com/job-listings-senior-dat...  \n",
       "17  https://www.naukri.com/job-listings-data-scien...  \n",
       "18  https://www.naukri.com/job-listings-data-scien...  \n",
       "19  https://www.naukri.com/job-listings-lead-data-...  "
      ]
     },
     "execution_count": 23,
     "metadata": {},
     "output_type": "execute_result"
    }
   ],
   "source": [
    "Jobs_Data = pd.DataFrame()\n",
    "Jobs_Data[\"Jobs Titles\"] = job_titles\n",
    "Jobs_Data[\"Company Name\"] = company\n",
    "Jobs_Data[\"Experience Required\"] = experience\n",
    "Jobs_Data[\"Location\"] = location\n",
    "Jobs_Data[\"Job Links\"] = job_links\n",
    "\n",
    "Jobs_Data"
   ]
  },
  {
   "cell_type": "markdown",
   "metadata": {},
   "source": [
    "### Export the Jobs_Data to the CSV File"
   ]
  },
  {
   "cell_type": "markdown",
   "metadata": {},
   "source": [
    "Give it name and location where you want to save the csv file"
   ]
  },
  {
   "cell_type": "code",
   "execution_count": 24,
   "metadata": {},
   "outputs": [],
   "source": [
    "Jobs_Data.to_csv(r\"C:\\Users\\ADMIN\\Desktop\\Jobs_Data.csv\", index=False)"
   ]
  },
  {
   "cell_type": "code",
   "execution_count": null,
   "metadata": {},
   "outputs": [],
   "source": []
  }
 ],
 "metadata": {
  "kernelspec": {
   "display_name": "Python 3",
   "language": "python",
   "name": "python3"
  },
  "language_info": {
   "codemirror_mode": {
    "name": "ipython",
    "version": 3
   },
   "file_extension": ".py",
   "mimetype": "text/x-python",
   "name": "python",
   "nbconvert_exporter": "python",
   "pygments_lexer": "ipython3",
   "version": "3.8.5"
  }
 },
 "nbformat": 4,
 "nbformat_minor": 4
}
