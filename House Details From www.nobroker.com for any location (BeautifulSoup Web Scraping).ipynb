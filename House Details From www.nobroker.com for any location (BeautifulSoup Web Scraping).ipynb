{
 "cells": [
  {
   "cell_type": "markdown",
   "metadata": {},
   "source": [
    "## House Details From www.nobroker.com for any location (BeautifulSoup Web Scraping)"
   ]
  },
  {
   "cell_type": "code",
   "execution_count": 1,
   "metadata": {},
   "outputs": [],
   "source": [
    "from bs4 import BeautifulSoup\n",
    "import pandas as pd\n",
    "import requests"
   ]
  },
  {
   "cell_type": "code",
   "execution_count": 2,
   "metadata": {},
   "outputs": [],
   "source": [
    "page = requests.get(\"https://www.nobroker.in/property/sale/delhi/multiple?type=BHK1&searchParam=W3sibGF0IjoyOC42ODIwNDQ0LCJsb24iOjc3LjA2NzU2MDcsInBsYWNlSWQiOiJDaElKeVQtTmNqZ0VEVGtSUXVIRVRydnU0V1EiLCJwbGFjZU5hbWUiOiJOYW5nbG9pIn0seyJsYXQiOjI4LjYxOTU1NzQsImxvbiI6NzcuMDU0OTkwMSwicGxhY2VJZCI6IkNoSUp6d2dhNGRrRURUa1JsdE9QNzJlaXBjRSIsInBsYWNlTmFtZSI6IlV0dGFtIE5hZ2FyIn0seyJsYXQiOjI4LjczODI2NzY5OTk5OTk5LCJsb24iOjc3LjA4MjIxNTEsInBsYWNlSWQiOiJDaElKUFlDaFJ6b0JEVGtSTDE2QmQ4U00tLTAiLCJwbGFjZU5hbWUiOiJSb2hpbmkifV0=&propertyAge=0&radius=2.0\")\n",
    "soup = BeautifulSoup(page.content)"
   ]
  },
  {
   "cell_type": "code",
   "execution_count": 3,
   "metadata": {},
   "outputs": [],
   "source": [
    "house_title = []\n",
    "location = []\n",
    "price = []\n",
    "area = []\n",
    "emi = []"
   ]
  },
  {
   "cell_type": "code",
   "execution_count": 4,
   "metadata": {},
   "outputs": [],
   "source": [
    "house = soup.find_all(\"h2\",class_=\"heading-6 font-semi-bold nb__1AShY\")\n",
    "for i in house:\n",
    "    house_title.append(i.text)"
   ]
  },
  {
   "cell_type": "code",
   "execution_count": 5,
   "metadata": {},
   "outputs": [],
   "source": [
    "loc = soup.find_all(\"div\",class_=\"nb__2CMjv\")\n",
    "for i in loc:\n",
    "    location.append(i.text)"
   ]
  },
  {
   "cell_type": "code",
   "execution_count": 6,
   "metadata": {
    "scrolled": true
   },
   "outputs": [],
   "source": [
    "info = []\n",
    "pri = soup.find_all(\"div\",class_=\"font-semi-bold heading-6\")\n",
    "for i in pri:\n",
    "    info.append(i.text)"
   ]
  },
  {
   "cell_type": "code",
   "execution_count": 7,
   "metadata": {},
   "outputs": [],
   "source": [
    "for i in range(2,len(info),3):\n",
    "    price.append(info[i])"
   ]
  },
  {
   "cell_type": "code",
   "execution_count": 8,
   "metadata": {},
   "outputs": [],
   "source": [
    "for i in range(0,len(info),3):\n",
    "    area.append(info[i])"
   ]
  },
  {
   "cell_type": "code",
   "execution_count": 9,
   "metadata": {},
   "outputs": [],
   "source": [
    "for i in range(1,len(info),3):\n",
    "    emi.append(info[i])"
   ]
  },
  {
   "cell_type": "markdown",
   "metadata": {},
   "source": [
    "## House Details for Delhi Location (Nangloi, Uttam Nagar & Rohini)"
   ]
  },
  {
   "cell_type": "code",
   "execution_count": 10,
   "metadata": {},
   "outputs": [
    {
     "data": {
      "text/html": [
       "<div>\n",
       "<style scoped>\n",
       "    .dataframe tbody tr th:only-of-type {\n",
       "        vertical-align: middle;\n",
       "    }\n",
       "\n",
       "    .dataframe tbody tr th {\n",
       "        vertical-align: top;\n",
       "    }\n",
       "\n",
       "    .dataframe thead th {\n",
       "        text-align: right;\n",
       "    }\n",
       "</style>\n",
       "<table border=\"1\" class=\"dataframe\">\n",
       "  <thead>\n",
       "    <tr style=\"text-align: right;\">\n",
       "      <th></th>\n",
       "      <th>House Title</th>\n",
       "      <th>Location</th>\n",
       "      <th>Area</th>\n",
       "      <th>Price</th>\n",
       "      <th>EMI</th>\n",
       "    </tr>\n",
       "  </thead>\n",
       "  <tbody>\n",
       "    <tr>\n",
       "      <th>1</th>\n",
       "      <td>1 BHK Flat  For Sale  In Plot, Nangloi, Delhi ...</td>\n",
       "      <td>Prem Nagar-II, KIRARI, DELHI 110086</td>\n",
       "      <td>900 sqft</td>\n",
       "      <td>₹50 Lacs</td>\n",
       "      <td>₹28,657/Month</td>\n",
       "    </tr>\n",
       "    <tr>\n",
       "      <th>2</th>\n",
       "      <td>1 BHK In Independent House  For Sale  In Najaf...</td>\n",
       "      <td>Independent House, Main Najafgarh Rd, Nangloi,...</td>\n",
       "      <td>450 sqft</td>\n",
       "      <td>₹25 Lacs</td>\n",
       "      <td>₹14,328/Month</td>\n",
       "    </tr>\n",
       "    <tr>\n",
       "      <th>3</th>\n",
       "      <td>1 BHK In Independent House  For Sale  In Nangloi</td>\n",
       "      <td>Independent House, Kamardin Nagar, Near  Shri ...</td>\n",
       "      <td>1,575 sqft</td>\n",
       "      <td>₹1.3 Crores</td>\n",
       "      <td>₹74,508/Month</td>\n",
       "    </tr>\n",
       "    <tr>\n",
       "      <th>4</th>\n",
       "      <td>1 BHK In Independent House  For Sale  In Nangloi</td>\n",
       "      <td>Independent House, deli-rohatak rd near Nanglo...</td>\n",
       "      <td>594 sqft</td>\n",
       "      <td>₹32 Lacs</td>\n",
       "      <td>₹18,340/Month</td>\n",
       "    </tr>\n",
       "    <tr>\n",
       "      <th>5</th>\n",
       "      <td>1 BHK In Independent House  For Sale  In Nangl...</td>\n",
       "      <td>Independent House, Nikhil Vihar, Near Guru Har...</td>\n",
       "      <td>450 sqft</td>\n",
       "      <td>₹14 Lacs</td>\n",
       "      <td>₹8,024/Month</td>\n",
       "    </tr>\n",
       "    <tr>\n",
       "      <th>6</th>\n",
       "      <td>1 BHK In Independent House  For Sale  In Prem ...</td>\n",
       "      <td>Independent House, 70feet rd near Punjab Natio...</td>\n",
       "      <td>414 sqft</td>\n",
       "      <td>₹16 Lacs</td>\n",
       "      <td>₹9,170/Month</td>\n",
       "    </tr>\n",
       "    <tr>\n",
       "      <th>7</th>\n",
       "      <td>1 BHK For Sale  in Kamruddin Nagar</td>\n",
       "      <td>Independent House, Amar Colony, Nangloi Extens...</td>\n",
       "      <td>470 sqft</td>\n",
       "      <td>₹19 Lacs</td>\n",
       "      <td>₹10,889/Month</td>\n",
       "    </tr>\n",
       "    <tr>\n",
       "      <th>8</th>\n",
       "      <td>1 BHK Flat  For Sale  In Standalone Building  ...</td>\n",
       "      <td>Avad Vihar ,  Near Vishal Hardware, Sanitary &amp;...</td>\n",
       "      <td>792 sqft</td>\n",
       "      <td>₹25 Lacs</td>\n",
       "      <td>₹14,328/Month</td>\n",
       "    </tr>\n",
       "    <tr>\n",
       "      <th>9</th>\n",
       "      <td>1 BHK Flat  For Sale  In Nawada In West Delhi</td>\n",
       "      <td>Nawada Extension</td>\n",
       "      <td>464 sqft</td>\n",
       "      <td>₹17 Lacs</td>\n",
       "      <td>₹9,743/Month</td>\n",
       "    </tr>\n",
       "    <tr>\n",
       "      <th>10</th>\n",
       "      <td>1 BHK Flat  For Sale  In Nihal Vihar</td>\n",
       "      <td>Standalone Building, Block E, near Police Stat...</td>\n",
       "      <td>500 sqft</td>\n",
       "      <td>₹16 Lacs</td>\n",
       "      <td>₹9,170/Month</td>\n",
       "    </tr>\n",
       "  </tbody>\n",
       "</table>\n",
       "</div>"
      ],
      "text/plain": [
       "                                          House Title  \\\n",
       "1   1 BHK Flat  For Sale  In Plot, Nangloi, Delhi ...   \n",
       "2   1 BHK In Independent House  For Sale  In Najaf...   \n",
       "3   1 BHK In Independent House  For Sale  In Nangloi    \n",
       "4   1 BHK In Independent House  For Sale  In Nangloi    \n",
       "5   1 BHK In Independent House  For Sale  In Nangl...   \n",
       "6   1 BHK In Independent House  For Sale  In Prem ...   \n",
       "7                 1 BHK For Sale  in Kamruddin Nagar    \n",
       "8   1 BHK Flat  For Sale  In Standalone Building  ...   \n",
       "9      1 BHK Flat  For Sale  In Nawada In West Delhi    \n",
       "10             1 BHK Flat  For Sale  In Nihal Vihar     \n",
       "\n",
       "                                             Location        Area  \\\n",
       "1                 Prem Nagar-II, KIRARI, DELHI 110086    900 sqft   \n",
       "2   Independent House, Main Najafgarh Rd, Nangloi,...    450 sqft   \n",
       "3   Independent House, Kamardin Nagar, Near  Shri ...  1,575 sqft   \n",
       "4   Independent House, deli-rohatak rd near Nanglo...    594 sqft   \n",
       "5   Independent House, Nikhil Vihar, Near Guru Har...    450 sqft   \n",
       "6   Independent House, 70feet rd near Punjab Natio...    414 sqft   \n",
       "7   Independent House, Amar Colony, Nangloi Extens...    470 sqft   \n",
       "8   Avad Vihar ,  Near Vishal Hardware, Sanitary &...    792 sqft   \n",
       "9                                    Nawada Extension    464 sqft   \n",
       "10  Standalone Building, Block E, near Police Stat...    500 sqft   \n",
       "\n",
       "          Price            EMI  \n",
       "1      ₹50 Lacs  ₹28,657/Month  \n",
       "2      ₹25 Lacs  ₹14,328/Month  \n",
       "3   ₹1.3 Crores  ₹74,508/Month  \n",
       "4      ₹32 Lacs  ₹18,340/Month  \n",
       "5      ₹14 Lacs   ₹8,024/Month  \n",
       "6      ₹16 Lacs   ₹9,170/Month  \n",
       "7      ₹19 Lacs  ₹10,889/Month  \n",
       "8      ₹25 Lacs  ₹14,328/Month  \n",
       "9      ₹17 Lacs   ₹9,743/Month  \n",
       "10     ₹16 Lacs   ₹9,170/Month  "
      ]
     },
     "execution_count": 10,
     "metadata": {},
     "output_type": "execute_result"
    }
   ],
   "source": [
    "House_Details = pd.DataFrame(index = list(range(1,11)))\n",
    "House_Details[\"House Title\"] = house_title\n",
    "House_Details[\"Location\"] = location\n",
    "House_Details[\"Area\"] = area\n",
    "House_Details[\"Price\"] = price\n",
    "House_Details[\"EMI\"] = emi\n",
    "\n",
    "House_Details"
   ]
  }
 ],
 "metadata": {
  "kernelspec": {
   "display_name": "Python 3",
   "language": "python",
   "name": "python3"
  },
  "language_info": {
   "codemirror_mode": {
    "name": "ipython",
    "version": 3
   },
   "file_extension": ".py",
   "mimetype": "text/x-python",
   "name": "python",
   "nbconvert_exporter": "python",
   "pygments_lexer": "ipython3",
   "version": "3.8.5"
  }
 },
 "nbformat": 4,
 "nbformat_minor": 4
}
